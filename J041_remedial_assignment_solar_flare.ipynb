{
  "nbformat": 4,
  "nbformat_minor": 0,
  "metadata": {
    "colab": {
      "name": "J041_remedial_assignment_solar_flare.ipynb",
      "provenance": [],
      "collapsed_sections": [],
      "include_colab_link": true
    },
    "kernelspec": {
      "name": "python3",
      "display_name": "Python 3"
    }
  },
  "cells": [
    {
      "cell_type": "markdown",
      "metadata": {
        "id": "view-in-github",
        "colab_type": "text"
      },
      "source": [
        "<a href=\"https://colab.research.google.com/github/ssave41/ML/blob/master/J041_remedial_assignment_solar_flare.ipynb\" target=\"_parent\"><img src=\"https://colab.research.google.com/assets/colab-badge.svg\" alt=\"Open In Colab\"/></a>"
      ]
    },
    {
      "cell_type": "code",
      "metadata": {
        "id": "37qQSshhfeXx",
        "outputId": "f58cc4df-e4e1-452d-9fb5-ddb051b52ef3",
        "colab": {
          "base_uri": "https://localhost:8080/"
        }
      },
      "source": [
        "!pip install -i https://test.pypi.org/simple/ all-in-one-ml==0.0.3"
      ],
      "execution_count": null,
      "outputs": [
        {
          "output_type": "stream",
          "text": [
            "Looking in indexes: https://test.pypi.org/simple/\n",
            "Collecting all-in-one-ml==0.0.3\n",
            "  Downloading https://test-files.pythonhosted.org/packages/28/79/5a421fa17e3e9a8b1cfa6ea4d65ba5d97865efbdf0b4dc99d7e52ef3849f/all_in_one_ml-0.0.3.tar.gz\n",
            "Requirement already satisfied: pandas in /usr/local/lib/python3.6/dist-packages (from all-in-one-ml==0.0.3) (1.1.3)\n",
            "Requirement already satisfied: numpy in /usr/local/lib/python3.6/dist-packages (from all-in-one-ml==0.0.3) (1.18.5)\n",
            "Requirement already satisfied: sklearn in /usr/local/lib/python3.6/dist-packages (from all-in-one-ml==0.0.3) (0.0)\n",
            "Requirement already satisfied: keras in /usr/local/lib/python3.6/dist-packages (from all-in-one-ml==0.0.3) (2.4.3)\n",
            "Requirement already satisfied: seaborn in /usr/local/lib/python3.6/dist-packages (from all-in-one-ml==0.0.3) (0.11.0)\n",
            "Requirement already satisfied: matplotlib in /usr/local/lib/python3.6/dist-packages (from all-in-one-ml==0.0.3) (3.2.2)\n",
            "Requirement already satisfied: python-dateutil>=2.7.3 in /usr/local/lib/python3.6/dist-packages (from pandas->all-in-one-ml==0.0.3) (2.8.1)\n",
            "Requirement already satisfied: pytz>=2017.2 in /usr/local/lib/python3.6/dist-packages (from pandas->all-in-one-ml==0.0.3) (2018.9)\n",
            "Requirement already satisfied: scikit-learn in /usr/local/lib/python3.6/dist-packages (from sklearn->all-in-one-ml==0.0.3) (0.22.2.post1)\n",
            "Requirement already satisfied: scipy>=0.14 in /usr/local/lib/python3.6/dist-packages (from keras->all-in-one-ml==0.0.3) (1.4.1)\n",
            "Requirement already satisfied: pyyaml in /usr/local/lib/python3.6/dist-packages (from keras->all-in-one-ml==0.0.3) (3.13)\n",
            "Requirement already satisfied: h5py in /usr/local/lib/python3.6/dist-packages (from keras->all-in-one-ml==0.0.3) (2.10.0)\n",
            "Requirement already satisfied: kiwisolver>=1.0.1 in /usr/local/lib/python3.6/dist-packages (from matplotlib->all-in-one-ml==0.0.3) (1.2.0)\n",
            "Requirement already satisfied: pyparsing!=2.0.4,!=2.1.2,!=2.1.6,>=2.0.1 in /usr/local/lib/python3.6/dist-packages (from matplotlib->all-in-one-ml==0.0.3) (2.4.7)\n",
            "Requirement already satisfied: cycler>=0.10 in /usr/local/lib/python3.6/dist-packages (from matplotlib->all-in-one-ml==0.0.3) (0.10.0)\n",
            "Requirement already satisfied: six>=1.5 in /usr/local/lib/python3.6/dist-packages (from python-dateutil>=2.7.3->pandas->all-in-one-ml==0.0.3) (1.15.0)\n",
            "Requirement already satisfied: joblib>=0.11 in /usr/local/lib/python3.6/dist-packages (from scikit-learn->sklearn->all-in-one-ml==0.0.3) (0.17.0)\n",
            "Building wheels for collected packages: all-in-one-ml\n",
            "  Building wheel for all-in-one-ml (setup.py) ... \u001b[?25l\u001b[?25hdone\n",
            "  Created wheel for all-in-one-ml: filename=all_in_one_ml-0.0.3-cp36-none-any.whl size=3868 sha256=770b8c5349cfbe77550e04c954bb38f94504ce6ffa04a1749888f76bde13f06e\n",
            "  Stored in directory: /root/.cache/pip/wheels/26/4f/f4/d595e3f4e73e8a49c62b9e2e99856618444f8d4c938d9c1b28\n",
            "Successfully built all-in-one-ml\n",
            "Installing collected packages: all-in-one-ml\n",
            "Successfully installed all-in-one-ml-0.0.3\n"
          ],
          "name": "stdout"
        }
      ]
    },
    {
      "cell_type": "code",
      "metadata": {
        "id": "ml8MbuC5gx18"
      },
      "source": [
        "from all_in_one_ml import beginner\n",
        "from sklearn import datasets\n",
        "import pandas as pd"
      ],
      "execution_count": null,
      "outputs": []
    },
    {
      "cell_type": "code",
      "metadata": {
        "id": "umWGVnt1oMd7",
        "outputId": "bd9d1332-f73f-4b30-a285-8719cfd04672",
        "colab": {
          "base_uri": "https://localhost:8080/"
        }
      },
      "source": [
        "data = datasets.fetch_openml('solar-flare')"
      ],
      "execution_count": null,
      "outputs": [
        {
          "output_type": "stream",
          "text": [
            "/usr/local/lib/python3.6/dist-packages/sklearn/datasets/_openml.py:372: UserWarning: Multiple active versions of the dataset matching the name solar-flare exist. Versions may be fundamentally different, returning version 3.\n",
            "  \" {version}.\".format(name=name, version=res[0]['version']))\n"
          ],
          "name": "stderr"
        }
      ]
    },
    {
      "cell_type": "code",
      "metadata": {
        "id": "AmgKpVoor65x"
      },
      "source": [
        "df = pd.DataFrame(data.data,columns = data.feature_names)\n",
        "df['class'] = data.target"
      ],
      "execution_count": null,
      "outputs": []
    },
    {
      "cell_type": "code",
      "metadata": {
        "id": "OClnvuW3tSf7",
        "outputId": "563ec602-8807-46e9-8e20-69c249ccfa48",
        "colab": {
          "base_uri": "https://localhost:8080/",
          "height": 232
        }
      },
      "source": [
        "df.head()"
      ],
      "execution_count": null,
      "outputs": [
        {
          "output_type": "execute_result",
          "data": {
            "text/html": [
              "<div>\n",
              "<style scoped>\n",
              "    .dataframe tbody tr th:only-of-type {\n",
              "        vertical-align: middle;\n",
              "    }\n",
              "\n",
              "    .dataframe tbody tr th {\n",
              "        vertical-align: top;\n",
              "    }\n",
              "\n",
              "    .dataframe thead th {\n",
              "        text-align: right;\n",
              "    }\n",
              "</style>\n",
              "<table border=\"1\" class=\"dataframe\">\n",
              "  <thead>\n",
              "    <tr style=\"text-align: right;\">\n",
              "      <th></th>\n",
              "      <th>largest_spot_size</th>\n",
              "      <th>spot_distribution</th>\n",
              "      <th>Activity</th>\n",
              "      <th>Evolution</th>\n",
              "      <th>Previous_24_hour_flare_activity_code</th>\n",
              "      <th>Historically-complex</th>\n",
              "      <th>Did_region_become_historically_complex</th>\n",
              "      <th>Area</th>\n",
              "      <th>Area_of_the_largest_spot</th>\n",
              "      <th>C-class_flares_production_by_this_region</th>\n",
              "      <th>M-class_flares_production_by_this_region</th>\n",
              "      <th>X-class_flares_production_by_this_region</th>\n",
              "      <th>class</th>\n",
              "    </tr>\n",
              "  </thead>\n",
              "  <tbody>\n",
              "    <tr>\n",
              "      <th>0</th>\n",
              "      <td>4.0</td>\n",
              "      <td>2.0</td>\n",
              "      <td>0.0</td>\n",
              "      <td>1.0</td>\n",
              "      <td>0.0</td>\n",
              "      <td>0.0</td>\n",
              "      <td>1.0</td>\n",
              "      <td>0.0</td>\n",
              "      <td>1.0</td>\n",
              "      <td>0.0</td>\n",
              "      <td>0.0</td>\n",
              "      <td>0.0</td>\n",
              "      <td>1</td>\n",
              "    </tr>\n",
              "    <tr>\n",
              "      <th>1</th>\n",
              "      <td>4.0</td>\n",
              "      <td>2.0</td>\n",
              "      <td>0.0</td>\n",
              "      <td>2.0</td>\n",
              "      <td>0.0</td>\n",
              "      <td>0.0</td>\n",
              "      <td>1.0</td>\n",
              "      <td>0.0</td>\n",
              "      <td>1.0</td>\n",
              "      <td>0.0</td>\n",
              "      <td>0.0</td>\n",
              "      <td>0.0</td>\n",
              "      <td>2</td>\n",
              "    </tr>\n",
              "    <tr>\n",
              "      <th>2</th>\n",
              "      <td>4.0</td>\n",
              "      <td>2.0</td>\n",
              "      <td>0.0</td>\n",
              "      <td>2.0</td>\n",
              "      <td>0.0</td>\n",
              "      <td>0.0</td>\n",
              "      <td>1.0</td>\n",
              "      <td>0.0</td>\n",
              "      <td>0.0</td>\n",
              "      <td>0.0</td>\n",
              "      <td>0.0</td>\n",
              "      <td>0.0</td>\n",
              "      <td>1</td>\n",
              "    </tr>\n",
              "    <tr>\n",
              "      <th>3</th>\n",
              "      <td>4.0</td>\n",
              "      <td>2.0</td>\n",
              "      <td>0.0</td>\n",
              "      <td>2.0</td>\n",
              "      <td>0.0</td>\n",
              "      <td>0.0</td>\n",
              "      <td>1.0</td>\n",
              "      <td>0.0</td>\n",
              "      <td>1.0</td>\n",
              "      <td>0.0</td>\n",
              "      <td>0.0</td>\n",
              "      <td>0.0</td>\n",
              "      <td>2</td>\n",
              "    </tr>\n",
              "    <tr>\n",
              "      <th>4</th>\n",
              "      <td>0.0</td>\n",
              "      <td>2.0</td>\n",
              "      <td>0.0</td>\n",
              "      <td>2.0</td>\n",
              "      <td>0.0</td>\n",
              "      <td>0.0</td>\n",
              "      <td>1.0</td>\n",
              "      <td>0.0</td>\n",
              "      <td>1.0</td>\n",
              "      <td>0.0</td>\n",
              "      <td>0.0</td>\n",
              "      <td>0.0</td>\n",
              "      <td>2</td>\n",
              "    </tr>\n",
              "  </tbody>\n",
              "</table>\n",
              "</div>"
            ],
            "text/plain": [
              "   largest_spot_size  ...  class\n",
              "0                4.0  ...      1\n",
              "1                4.0  ...      2\n",
              "2                4.0  ...      1\n",
              "3                4.0  ...      2\n",
              "4                0.0  ...      2\n",
              "\n",
              "[5 rows x 13 columns]"
            ]
          },
          "metadata": {
            "tags": []
          },
          "execution_count": 38
        }
      ]
    },
    {
      "cell_type": "code",
      "metadata": {
        "id": "4sCHISIbtkqV"
      },
      "source": [
        "x = df.drop(columns=['class'])\n",
        "y = df['class']"
      ],
      "execution_count": null,
      "outputs": []
    },
    {
      "cell_type": "code",
      "metadata": {
        "id": "prY8p-M_kSp2",
        "outputId": "1ae7c613-bb1b-4214-957c-ff7d5bccef16",
        "colab": {
          "base_uri": "https://localhost:8080/"
        }
      },
      "source": [
        "x_hot,y_hot = beginner.one_hot(x,y,cat='~')\n",
        "print(x_hot,y_hot)"
      ],
      "execution_count": null,
      "outputs": [
        {
          "output_type": "stream",
          "text": [
            "     largest_spot_size_0.0  ...  X-class_flares_production_by_this_region_1.0\n",
            "0                        0  ...                                             0\n",
            "1                        0  ...                                             0\n",
            "2                        0  ...                                             0\n",
            "3                        0  ...                                             0\n",
            "4                        1  ...                                             0\n",
            "..                     ...  ...                                           ...\n",
            "310                      0  ...                                             0\n",
            "311                      0  ...                                             0\n",
            "312                      1  ...                                             0\n",
            "313                      0  ...                                             0\n",
            "314                      0  ...                                             0\n",
            "\n",
            "[315 rows x 34 columns]      0  1  2  3  5\n",
            "0    0  1  0  0  0\n",
            "1    0  0  1  0  0\n",
            "2    0  1  0  0  0\n",
            "3    0  0  1  0  0\n",
            "4    0  0  1  0  0\n",
            "..  .. .. .. .. ..\n",
            "310  0  1  0  0  0\n",
            "311  0  0  1  0  0\n",
            "312  0  0  0  1  0\n",
            "313  0  1  0  0  0\n",
            "314  0  0  0  1  0\n",
            "\n",
            "[315 rows x 5 columns]\n"
          ],
          "name": "stdout"
        }
      ]
    },
    {
      "cell_type": "code",
      "metadata": {
        "id": "Bi7EqujclEPp",
        "outputId": "500bc232-d185-42ea-a5b6-166536879ca5",
        "colab": {
          "base_uri": "https://localhost:8080/"
        }
      },
      "source": [
        "x_train,x_test,y_train,y_test = beginner.split_dataset(x_hot,y_hot,0.2,8)"
      ],
      "execution_count": null,
      "outputs": [
        {
          "output_type": "stream",
          "text": [
            "(252, 34) (252, 5) (63, 34) (63, 5)\n"
          ],
          "name": "stdout"
        }
      ]
    },
    {
      "cell_type": "code",
      "metadata": {
        "id": "u2sDazVOlP0o",
        "outputId": "442fba4a-0ec4-4801-8dea-cb3ce09a53e7",
        "colab": {
          "base_uri": "https://localhost:8080/",
          "height": 232
        }
      },
      "source": [
        "x_train.head()"
      ],
      "execution_count": null,
      "outputs": [
        {
          "output_type": "execute_result",
          "data": {
            "text/html": [
              "<div>\n",
              "<style scoped>\n",
              "    .dataframe tbody tr th:only-of-type {\n",
              "        vertical-align: middle;\n",
              "    }\n",
              "\n",
              "    .dataframe tbody tr th {\n",
              "        vertical-align: top;\n",
              "    }\n",
              "\n",
              "    .dataframe thead th {\n",
              "        text-align: right;\n",
              "    }\n",
              "</style>\n",
              "<table border=\"1\" class=\"dataframe\">\n",
              "  <thead>\n",
              "    <tr style=\"text-align: right;\">\n",
              "      <th></th>\n",
              "      <th>largest_spot_size_0.0</th>\n",
              "      <th>largest_spot_size_1.0</th>\n",
              "      <th>largest_spot_size_2.0</th>\n",
              "      <th>largest_spot_size_3.0</th>\n",
              "      <th>largest_spot_size_4.0</th>\n",
              "      <th>largest_spot_size_5.0</th>\n",
              "      <th>spot_distribution_0.0</th>\n",
              "      <th>spot_distribution_1.0</th>\n",
              "      <th>spot_distribution_2.0</th>\n",
              "      <th>spot_distribution_3.0</th>\n",
              "      <th>Activity_0.0</th>\n",
              "      <th>Activity_1.0</th>\n",
              "      <th>Evolution_0.0</th>\n",
              "      <th>Evolution_1.0</th>\n",
              "      <th>Evolution_2.0</th>\n",
              "      <th>Previous_24_hour_flare_activity_code_0.0</th>\n",
              "      <th>Previous_24_hour_flare_activity_code_1.0</th>\n",
              "      <th>Historically-complex_0.0</th>\n",
              "      <th>Historically-complex_1.0</th>\n",
              "      <th>Did_region_become_historically_complex_0.0</th>\n",
              "      <th>Did_region_become_historically_complex_1.0</th>\n",
              "      <th>Area_0.0</th>\n",
              "      <th>Area_1.0</th>\n",
              "      <th>Area_of_the_largest_spot_0.0</th>\n",
              "      <th>Area_of_the_largest_spot_1.0</th>\n",
              "      <th>C-class_flares_production_by_this_region_0.0</th>\n",
              "      <th>C-class_flares_production_by_this_region_1.0</th>\n",
              "      <th>C-class_flares_production_by_this_region_2.0</th>\n",
              "      <th>M-class_flares_production_by_this_region_0.0</th>\n",
              "      <th>M-class_flares_production_by_this_region_1.0</th>\n",
              "      <th>M-class_flares_production_by_this_region_2.0</th>\n",
              "      <th>M-class_flares_production_by_this_region_3.0</th>\n",
              "      <th>X-class_flares_production_by_this_region_0.0</th>\n",
              "      <th>X-class_flares_production_by_this_region_1.0</th>\n",
              "    </tr>\n",
              "  </thead>\n",
              "  <tbody>\n",
              "    <tr>\n",
              "      <th>303</th>\n",
              "      <td>0</td>\n",
              "      <td>0</td>\n",
              "      <td>0</td>\n",
              "      <td>0</td>\n",
              "      <td>1</td>\n",
              "      <td>0</td>\n",
              "      <td>0</td>\n",
              "      <td>0</td>\n",
              "      <td>0</td>\n",
              "      <td>1</td>\n",
              "      <td>1</td>\n",
              "      <td>0</td>\n",
              "      <td>0</td>\n",
              "      <td>0</td>\n",
              "      <td>1</td>\n",
              "      <td>1</td>\n",
              "      <td>0</td>\n",
              "      <td>0</td>\n",
              "      <td>1</td>\n",
              "      <td>0</td>\n",
              "      <td>1</td>\n",
              "      <td>1</td>\n",
              "      <td>0</td>\n",
              "      <td>0</td>\n",
              "      <td>1</td>\n",
              "      <td>1</td>\n",
              "      <td>0</td>\n",
              "      <td>0</td>\n",
              "      <td>1</td>\n",
              "      <td>0</td>\n",
              "      <td>0</td>\n",
              "      <td>0</td>\n",
              "      <td>1</td>\n",
              "      <td>0</td>\n",
              "    </tr>\n",
              "    <tr>\n",
              "      <th>22</th>\n",
              "      <td>0</td>\n",
              "      <td>0</td>\n",
              "      <td>0</td>\n",
              "      <td>0</td>\n",
              "      <td>0</td>\n",
              "      <td>1</td>\n",
              "      <td>0</td>\n",
              "      <td>0</td>\n",
              "      <td>1</td>\n",
              "      <td>0</td>\n",
              "      <td>1</td>\n",
              "      <td>0</td>\n",
              "      <td>0</td>\n",
              "      <td>1</td>\n",
              "      <td>0</td>\n",
              "      <td>1</td>\n",
              "      <td>0</td>\n",
              "      <td>1</td>\n",
              "      <td>0</td>\n",
              "      <td>0</td>\n",
              "      <td>1</td>\n",
              "      <td>1</td>\n",
              "      <td>0</td>\n",
              "      <td>1</td>\n",
              "      <td>0</td>\n",
              "      <td>1</td>\n",
              "      <td>0</td>\n",
              "      <td>0</td>\n",
              "      <td>1</td>\n",
              "      <td>0</td>\n",
              "      <td>0</td>\n",
              "      <td>0</td>\n",
              "      <td>1</td>\n",
              "      <td>0</td>\n",
              "    </tr>\n",
              "    <tr>\n",
              "      <th>64</th>\n",
              "      <td>0</td>\n",
              "      <td>0</td>\n",
              "      <td>0</td>\n",
              "      <td>0</td>\n",
              "      <td>1</td>\n",
              "      <td>0</td>\n",
              "      <td>0</td>\n",
              "      <td>0</td>\n",
              "      <td>1</td>\n",
              "      <td>0</td>\n",
              "      <td>1</td>\n",
              "      <td>0</td>\n",
              "      <td>0</td>\n",
              "      <td>1</td>\n",
              "      <td>0</td>\n",
              "      <td>1</td>\n",
              "      <td>0</td>\n",
              "      <td>0</td>\n",
              "      <td>1</td>\n",
              "      <td>0</td>\n",
              "      <td>1</td>\n",
              "      <td>1</td>\n",
              "      <td>0</td>\n",
              "      <td>0</td>\n",
              "      <td>1</td>\n",
              "      <td>1</td>\n",
              "      <td>0</td>\n",
              "      <td>0</td>\n",
              "      <td>1</td>\n",
              "      <td>0</td>\n",
              "      <td>0</td>\n",
              "      <td>0</td>\n",
              "      <td>1</td>\n",
              "      <td>0</td>\n",
              "    </tr>\n",
              "    <tr>\n",
              "      <th>100</th>\n",
              "      <td>0</td>\n",
              "      <td>0</td>\n",
              "      <td>0</td>\n",
              "      <td>0</td>\n",
              "      <td>1</td>\n",
              "      <td>0</td>\n",
              "      <td>0</td>\n",
              "      <td>0</td>\n",
              "      <td>0</td>\n",
              "      <td>1</td>\n",
              "      <td>1</td>\n",
              "      <td>0</td>\n",
              "      <td>0</td>\n",
              "      <td>1</td>\n",
              "      <td>0</td>\n",
              "      <td>1</td>\n",
              "      <td>0</td>\n",
              "      <td>1</td>\n",
              "      <td>0</td>\n",
              "      <td>1</td>\n",
              "      <td>0</td>\n",
              "      <td>1</td>\n",
              "      <td>0</td>\n",
              "      <td>0</td>\n",
              "      <td>1</td>\n",
              "      <td>1</td>\n",
              "      <td>0</td>\n",
              "      <td>0</td>\n",
              "      <td>1</td>\n",
              "      <td>0</td>\n",
              "      <td>0</td>\n",
              "      <td>0</td>\n",
              "      <td>1</td>\n",
              "      <td>0</td>\n",
              "    </tr>\n",
              "    <tr>\n",
              "      <th>113</th>\n",
              "      <td>0</td>\n",
              "      <td>0</td>\n",
              "      <td>1</td>\n",
              "      <td>0</td>\n",
              "      <td>0</td>\n",
              "      <td>0</td>\n",
              "      <td>0</td>\n",
              "      <td>1</td>\n",
              "      <td>0</td>\n",
              "      <td>0</td>\n",
              "      <td>1</td>\n",
              "      <td>0</td>\n",
              "      <td>0</td>\n",
              "      <td>0</td>\n",
              "      <td>1</td>\n",
              "      <td>1</td>\n",
              "      <td>0</td>\n",
              "      <td>0</td>\n",
              "      <td>1</td>\n",
              "      <td>0</td>\n",
              "      <td>1</td>\n",
              "      <td>1</td>\n",
              "      <td>0</td>\n",
              "      <td>0</td>\n",
              "      <td>1</td>\n",
              "      <td>1</td>\n",
              "      <td>0</td>\n",
              "      <td>0</td>\n",
              "      <td>1</td>\n",
              "      <td>0</td>\n",
              "      <td>0</td>\n",
              "      <td>0</td>\n",
              "      <td>1</td>\n",
              "      <td>0</td>\n",
              "    </tr>\n",
              "  </tbody>\n",
              "</table>\n",
              "</div>"
            ],
            "text/plain": [
              "     largest_spot_size_0.0  ...  X-class_flares_production_by_this_region_1.0\n",
              "303                      0  ...                                             0\n",
              "22                       0  ...                                             0\n",
              "64                       0  ...                                             0\n",
              "100                      0  ...                                             0\n",
              "113                      0  ...                                             0\n",
              "\n",
              "[5 rows x 34 columns]"
            ]
          },
          "metadata": {
            "tags": []
          },
          "execution_count": 43
        }
      ]
    },
    {
      "cell_type": "code",
      "metadata": {
        "id": "ThF2tyIAlQY7",
        "outputId": "0f9aa06f-a9f8-4442-9b23-e21609422940",
        "colab": {
          "base_uri": "https://localhost:8080/",
          "height": 195
        }
      },
      "source": [
        "y_train.head()"
      ],
      "execution_count": null,
      "outputs": [
        {
          "output_type": "execute_result",
          "data": {
            "text/html": [
              "<div>\n",
              "<style scoped>\n",
              "    .dataframe tbody tr th:only-of-type {\n",
              "        vertical-align: middle;\n",
              "    }\n",
              "\n",
              "    .dataframe tbody tr th {\n",
              "        vertical-align: top;\n",
              "    }\n",
              "\n",
              "    .dataframe thead th {\n",
              "        text-align: right;\n",
              "    }\n",
              "</style>\n",
              "<table border=\"1\" class=\"dataframe\">\n",
              "  <thead>\n",
              "    <tr style=\"text-align: right;\">\n",
              "      <th></th>\n",
              "      <th>0</th>\n",
              "      <th>1</th>\n",
              "      <th>2</th>\n",
              "      <th>3</th>\n",
              "      <th>5</th>\n",
              "    </tr>\n",
              "  </thead>\n",
              "  <tbody>\n",
              "    <tr>\n",
              "      <th>303</th>\n",
              "      <td>0</td>\n",
              "      <td>0</td>\n",
              "      <td>0</td>\n",
              "      <td>0</td>\n",
              "      <td>1</td>\n",
              "    </tr>\n",
              "    <tr>\n",
              "      <th>22</th>\n",
              "      <td>1</td>\n",
              "      <td>0</td>\n",
              "      <td>0</td>\n",
              "      <td>0</td>\n",
              "      <td>0</td>\n",
              "    </tr>\n",
              "    <tr>\n",
              "      <th>64</th>\n",
              "      <td>0</td>\n",
              "      <td>1</td>\n",
              "      <td>0</td>\n",
              "      <td>0</td>\n",
              "      <td>0</td>\n",
              "    </tr>\n",
              "    <tr>\n",
              "      <th>100</th>\n",
              "      <td>0</td>\n",
              "      <td>0</td>\n",
              "      <td>0</td>\n",
              "      <td>0</td>\n",
              "      <td>1</td>\n",
              "    </tr>\n",
              "    <tr>\n",
              "      <th>113</th>\n",
              "      <td>0</td>\n",
              "      <td>0</td>\n",
              "      <td>1</td>\n",
              "      <td>0</td>\n",
              "      <td>0</td>\n",
              "    </tr>\n",
              "  </tbody>\n",
              "</table>\n",
              "</div>"
            ],
            "text/plain": [
              "     0  1  2  3  5\n",
              "303  0  0  0  0  1\n",
              "22   1  0  0  0  0\n",
              "64   0  1  0  0  0\n",
              "100  0  0  0  0  1\n",
              "113  0  0  1  0  0"
            ]
          },
          "metadata": {
            "tags": []
          },
          "execution_count": 44
        }
      ]
    },
    {
      "cell_type": "code",
      "metadata": {
        "id": "GSOINIB3lT3N",
        "outputId": "afbbd16e-9d2f-493d-80e7-cb3a31db057c",
        "colab": {
          "base_uri": "https://localhost:8080/"
        }
      },
      "source": [
        "model,history = beginner.build_compile_fit_model(x_train,y_train,'classification',30,3,[100,100,100],['relu','relu','relu'])"
      ],
      "execution_count": null,
      "outputs": [
        {
          "output_type": "stream",
          "text": [
            "Model: \"sequential_4\"\n",
            "_________________________________________________________________\n",
            "Layer (type)                 Output Shape              Param #   \n",
            "=================================================================\n",
            "dense_19 (Dense)             (None, 100)               3500      \n",
            "_________________________________________________________________\n",
            "dense_20 (Dense)             (None, 100)               10100     \n",
            "_________________________________________________________________\n",
            "dense_21 (Dense)             (None, 100)               10100     \n",
            "_________________________________________________________________\n",
            "dense_22 (Dense)             (None, 5)                 505       \n",
            "=================================================================\n",
            "Total params: 24,205\n",
            "Trainable params: 24,205\n",
            "Non-trainable params: 0\n",
            "_________________________________________________________________\n",
            "Epoch 1/30\n",
            "7/7 [==============================] - 0s 25ms/step - loss: 1.5558 - accuracy: 0.2587 - val_loss: 1.4496 - val_accuracy: 0.4510\n",
            "Epoch 2/30\n",
            "7/7 [==============================] - 0s 4ms/step - loss: 1.4021 - accuracy: 0.4826 - val_loss: 1.3301 - val_accuracy: 0.4510\n",
            "Epoch 3/30\n",
            "7/7 [==============================] - 0s 4ms/step - loss: 1.2774 - accuracy: 0.5423 - val_loss: 1.2088 - val_accuracy: 0.4510\n",
            "Epoch 4/30\n",
            "7/7 [==============================] - 0s 4ms/step - loss: 1.1425 - accuracy: 0.6368 - val_loss: 1.0950 - val_accuracy: 0.5294\n",
            "Epoch 5/30\n",
            "7/7 [==============================] - 0s 4ms/step - loss: 0.9948 - accuracy: 0.6915 - val_loss: 0.9816 - val_accuracy: 0.5686\n",
            "Epoch 6/30\n",
            "7/7 [==============================] - 0s 4ms/step - loss: 0.8486 - accuracy: 0.7164 - val_loss: 0.8259 - val_accuracy: 0.6667\n",
            "Epoch 7/30\n",
            "7/7 [==============================] - 0s 5ms/step - loss: 0.7237 - accuracy: 0.7562 - val_loss: 0.7286 - val_accuracy: 0.6863\n",
            "Epoch 8/30\n",
            "7/7 [==============================] - 0s 5ms/step - loss: 0.6354 - accuracy: 0.7463 - val_loss: 0.7074 - val_accuracy: 0.6667\n",
            "Epoch 9/30\n",
            "7/7 [==============================] - 0s 4ms/step - loss: 0.5533 - accuracy: 0.7761 - val_loss: 0.6080 - val_accuracy: 0.7451\n",
            "Epoch 10/30\n",
            "7/7 [==============================] - 0s 4ms/step - loss: 0.5087 - accuracy: 0.7811 - val_loss: 0.5860 - val_accuracy: 0.6667\n",
            "Epoch 11/30\n",
            "7/7 [==============================] - 0s 4ms/step - loss: 0.4787 - accuracy: 0.7960 - val_loss: 0.5532 - val_accuracy: 0.7451\n",
            "Epoch 12/30\n",
            "7/7 [==============================] - 0s 4ms/step - loss: 0.4349 - accuracy: 0.8358 - val_loss: 0.5917 - val_accuracy: 0.6471\n",
            "Epoch 13/30\n",
            "7/7 [==============================] - 0s 5ms/step - loss: 0.4240 - accuracy: 0.8458 - val_loss: 0.5805 - val_accuracy: 0.6667\n",
            "Epoch 14/30\n",
            "7/7 [==============================] - 0s 6ms/step - loss: 0.4055 - accuracy: 0.8507 - val_loss: 0.5659 - val_accuracy: 0.6863\n",
            "Epoch 15/30\n",
            "7/7 [==============================] - 0s 5ms/step - loss: 0.3944 - accuracy: 0.8557 - val_loss: 0.5578 - val_accuracy: 0.6863\n",
            "Epoch 16/30\n",
            "7/7 [==============================] - 0s 5ms/step - loss: 0.3930 - accuracy: 0.8507 - val_loss: 0.5590 - val_accuracy: 0.7059\n",
            "Epoch 17/30\n",
            "7/7 [==============================] - 0s 5ms/step - loss: 0.3887 - accuracy: 0.8408 - val_loss: 0.5986 - val_accuracy: 0.6667\n",
            "Epoch 18/30\n",
            "7/7 [==============================] - 0s 4ms/step - loss: 0.3716 - accuracy: 0.8657 - val_loss: 0.5835 - val_accuracy: 0.6667\n",
            "Epoch 19/30\n",
            "7/7 [==============================] - 0s 5ms/step - loss: 0.3614 - accuracy: 0.8408 - val_loss: 0.6168 - val_accuracy: 0.6471\n",
            "Epoch 20/30\n",
            "7/7 [==============================] - 0s 5ms/step - loss: 0.3509 - accuracy: 0.8507 - val_loss: 0.5876 - val_accuracy: 0.6667\n",
            "Epoch 21/30\n",
            "7/7 [==============================] - 0s 6ms/step - loss: 0.3396 - accuracy: 0.8756 - val_loss: 0.5832 - val_accuracy: 0.6863\n",
            "Epoch 22/30\n",
            "7/7 [==============================] - 0s 5ms/step - loss: 0.3246 - accuracy: 0.8657 - val_loss: 0.6212 - val_accuracy: 0.6863\n",
            "Epoch 23/30\n",
            "7/7 [==============================] - 0s 5ms/step - loss: 0.3120 - accuracy: 0.8657 - val_loss: 0.6237 - val_accuracy: 0.6863\n",
            "Epoch 24/30\n",
            "7/7 [==============================] - 0s 5ms/step - loss: 0.3026 - accuracy: 0.8706 - val_loss: 0.6304 - val_accuracy: 0.6863\n",
            "Epoch 25/30\n",
            "7/7 [==============================] - 0s 4ms/step - loss: 0.2976 - accuracy: 0.8806 - val_loss: 0.6163 - val_accuracy: 0.6863\n",
            "Epoch 26/30\n",
            "7/7 [==============================] - 0s 5ms/step - loss: 0.2973 - accuracy: 0.8756 - val_loss: 0.6306 - val_accuracy: 0.6667\n",
            "Epoch 27/30\n",
            "7/7 [==============================] - 0s 5ms/step - loss: 0.2735 - accuracy: 0.8806 - val_loss: 0.6358 - val_accuracy: 0.6863\n",
            "Epoch 28/30\n",
            "7/7 [==============================] - 0s 5ms/step - loss: 0.2779 - accuracy: 0.8756 - val_loss: 0.6612 - val_accuracy: 0.6667\n",
            "Epoch 29/30\n",
            "7/7 [==============================] - 0s 4ms/step - loss: 0.2664 - accuracy: 0.8955 - val_loss: 0.6859 - val_accuracy: 0.6667\n",
            "Epoch 30/30\n",
            "7/7 [==============================] - 0s 4ms/step - loss: 0.2531 - accuracy: 0.8955 - val_loss: 0.6958 - val_accuracy: 0.6667\n"
          ],
          "name": "stdout"
        }
      ]
    },
    {
      "cell_type": "code",
      "metadata": {
        "id": "54fMbUdcllD6",
        "outputId": "b346507f-56c6-4140-f68f-50956cfdcd12",
        "colab": {
          "base_uri": "https://localhost:8080/"
        }
      },
      "source": [
        "beginner.get_accuracy(x_test,y_test,model)"
      ],
      "execution_count": null,
      "outputs": [
        {
          "output_type": "stream",
          "text": [
            "2/2 [==============================] - 0s 2ms/step - loss: 0.6321 - accuracy: 0.7302\n"
          ],
          "name": "stdout"
        }
      ]
    },
    {
      "cell_type": "code",
      "metadata": {
        "id": "KgB2aWjBlwZX",
        "outputId": "f206a19d-ab71-4b4a-bdd0-032792e8a22b",
        "colab": {
          "base_uri": "https://localhost:8080/",
          "height": 295
        }
      },
      "source": [
        "beginner.accuracy_vs_valaccuracy(model,history,30)"
      ],
      "execution_count": null,
      "outputs": [
        {
          "output_type": "display_data",
          "data": {
            "image/png": "[encoded data removed]",
            "text/plain": [
              "<Figure size 432x288 with 1 Axes>"
            ]
          },
          "metadata": {
            "tags": [],
            "needs_background": "light"
          }
        }
      ]
    },
    {
      "cell_type": "code",
      "metadata": {
        "id": "PVkSCyqGlwTE",
        "outputId": "cfc9d86b-f2d1-486e-ece1-631f56dbcfb4",
        "colab": {
          "base_uri": "https://localhost:8080/",
          "height": 295
        }
      },
      "source": [
        "beginner.loss_vs_valloss(model,history,30)"
      ],
      "execution_count": null,
      "outputs": [
        {
          "output_type": "display_data",
          "data": {
            "image/png": "[encoded data removed]",
            "text/plain": [
              "<Figure size 432x288 with 1 Axes>"
            ]
          },
          "metadata": {
            "tags": [],
            "needs_background": "light"
          }
        }
      ]
    }
  ]
}